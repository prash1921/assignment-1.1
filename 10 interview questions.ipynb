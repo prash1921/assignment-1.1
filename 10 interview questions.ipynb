{
 "cells": [
  {
   "cell_type": "code",
   "execution_count": null,
   "id": "ba35f18b",
   "metadata": {},
   "outputs": [],
   "source": [
    "1.Write a Python program to calculate the area of a triangle."
   ]
  },
  {
   "cell_type": "code",
   "execution_count": 1,
   "id": "f521bb66",
   "metadata": {},
   "outputs": [
    {
     "name": "stdout",
     "output_type": "stream",
     "text": [
      "Enter first side value: 12\n",
      "Enter second side value:34\n",
      "Enter third-side value:23\n",
      "The area of the triangle is:  538.6310773618618\n"
     ]
    }
   ],
   "source": [
    "s1 = float(input('Enter first side value: '))\n",
    "s2 = float(input('Enter second side value:'))\n",
    "s3 = float(input('Enter third-side value:'))\n",
    "\n",
    "#Calculating the semi-perimeter of a triangle\n",
    "sp = (s1 + s2 + s3) / 2\n",
    "\n",
    "#Calculating the area of a triangle\n",
    "area = (sp*(sp-s1)*(sp-2)*(sp-s3)) ** 0.5\n",
    "\n",
    "#Printing the area of the triangle\n",
    "print('The area of the triangle is: ', area)"
   ]
  },
  {
   "cell_type": "code",
   "execution_count": null,
   "id": "d8cb8ce4",
   "metadata": {},
   "outputs": [],
   "source": [
    "2.Write a Python program to check leap year."
   ]
  },
  {
   "cell_type": "code",
   "execution_count": null,
   "id": "84f3fa3c",
   "metadata": {},
   "outputs": [],
   "source": []
  },
  {
   "cell_type": "code",
   "execution_count": 2,
   "id": "231515d8",
   "metadata": {},
   "outputs": [
    {
     "name": "stdout",
     "output_type": "stream",
     "text": [
      "Enter the year to check whether a leap year or not: 2020\n",
      "The given Year is a leap year\n"
     ]
    }
   ],
   "source": [
    "def LeapYear(Year):  \n",
    "  #Condition to check if the given year is leap year or not  \n",
    "  if((Year % 400 == 0) or  \n",
    "     (Year % 100 != 0) and  \n",
    "     (Year % 4 == 0)):   \n",
    "    print(\"The given Year is a leap year\");  \n",
    "  # Else it is not a leap year  \n",
    "  else:  \n",
    "    print (\"The given Year is not a leap year\")  \n",
    "# Taking an input year from user  \n",
    "Year = int(input(\"Enter the year to check whether a leap year or not: \"))  \n",
    "# Printing the leap year result  \n",
    "LeapYear(Year) "
   ]
  },
  {
   "cell_type": "code",
   "execution_count": null,
   "id": "07056917",
   "metadata": {},
   "outputs": [],
   "source": [
    "3.Write a Python program to display a multiplication table using for loop."
   ]
  },
  {
   "cell_type": "code",
   "execution_count": 3,
   "id": "57d499ad",
   "metadata": {},
   "outputs": [
    {
     "name": "stdout",
     "output_type": "stream",
     "text": [
      "Enter the number of your choice to print the multiplication table: 4\n",
      "The Multiplication Table of:  4\n",
      "4 x 1 = 4\n",
      "4 x 2 = 8\n",
      "4 x 3 = 12\n",
      "4 x 4 = 16\n",
      "4 x 5 = 20\n",
      "4 x 6 = 24\n",
      "4 x 7 = 28\n",
      "4 x 8 = 32\n",
      "4 x 9 = 36\n",
      "4 x 10 = 40\n"
     ]
    }
   ],
   "source": [
    "tab_number = int(input (\"Enter the number of your choice to print the multiplication table: \"))      \n",
    "\n",
    "#For loop to iterate the multiplication 10 times and print the table   \n",
    "print (\"The Multiplication Table of: \", tab_number)    \n",
    "for count in range(1, 11):      \n",
    "   print (tab_number, 'x', count, '=', tab_number * count) "
   ]
  },
  {
   "cell_type": "code",
   "execution_count": null,
   "id": "d2aaf4fd",
   "metadata": {},
   "outputs": [],
   "source": [
    "4.Write a Python program to display the calendar.\n"
   ]
  },
  {
   "cell_type": "code",
   "execution_count": 5,
   "id": "a16fb442",
   "metadata": {},
   "outputs": [
    {
     "name": "stdout",
     "output_type": "stream",
     "text": [
      "Enter the year: 2020\n",
      "Enter the month: 7\n",
      "     July 2020\n",
      "Mo Tu We Th Fr Sa Su\n",
      "       1  2  3  4  5\n",
      " 6  7  8  9 10 11 12\n",
      "13 14 15 16 17 18 19\n",
      "20 21 22 23 24 25 26\n",
      "27 28 29 30 31\n",
      "\n"
     ]
    }
   ],
   "source": [
    "import calendar  \n",
    "# Get the month and year from the users\n",
    "year = int(input(\"Enter the year: \"))  \n",
    "month = int(input(\"Enter the month: \"))  \n",
    "  \n",
    "# Displaying the calendar for the given year and month\n",
    "print(calendar.month(year,month))  \n"
   ]
  },
  {
   "cell_type": "code",
   "execution_count": null,
   "id": "ad29e875",
   "metadata": {},
   "outputs": [],
   "source": [
    "5.Write a Python Program to Convert Comma Separated List to a String."
   ]
  },
  {
   "cell_type": "code",
   "execution_count": 6,
   "id": "9f288ef7",
   "metadata": {},
   "outputs": [
    {
     "name": "stdout",
     "output_type": "stream",
     "text": [
      "What is your favorite programming language: Python, SQL, GO\n"
     ]
    }
   ],
   "source": [
    "favorite_prog = [\"Python\", \"SQL\", \"GO\"]  \n",
    "\n",
    "#The join() method takes all items from the favorite_prog list and joins them into one string.\n",
    "print(\"What is your favorite programming language:\", \", \".join(favorite_prog))\n"
   ]
  },
  {
   "cell_type": "code",
   "execution_count": 7,
   "id": "a3ee174f",
   "metadata": {},
   "outputs": [
    {
     "ename": "SyntaxError",
     "evalue": "invalid syntax (1744541156.py, line 1)",
     "output_type": "error",
     "traceback": [
      "\u001b[1;36m  File \u001b[1;32m\"C:\\Users\\my-pc\\AppData\\Local\\Temp\\ipykernel_13132\\1744541156.py\"\u001b[1;36m, line \u001b[1;32m1\u001b[0m\n\u001b[1;33m    6.Python Add Two Numbers Program\u001b[0m\n\u001b[1;37m      ^\u001b[0m\n\u001b[1;31mSyntaxError\u001b[0m\u001b[1;31m:\u001b[0m invalid syntax\n"
     ]
    }
   ],
   "source": [
    "6.Python Add Two Numbers Program\n"
   ]
  },
  {
   "cell_type": "code",
   "execution_count": 14,
   "id": "984d7660",
   "metadata": {},
   "outputs": [
    {
     "name": "stdout",
     "output_type": "stream",
     "text": [
      "Enter first number: 5\n",
      "Enter second number: 6\n",
      "The sum of the numbers is 56\n"
     ]
    }
   ],
   "source": [
    "num1 = input('Enter first number: ')  \n",
    "num2 = input('Enter second number: ')  \n",
    "sum = num1 + num2  \n",
    "print('The sum of the numbers is', sum)"
   ]
  },
  {
   "cell_type": "code",
   "execution_count": 9,
   "id": "d5d9f86a",
   "metadata": {},
   "outputs": [
    {
     "name": "stdout",
     "output_type": "stream",
     "text": [
      "Object `program` not found.\n"
     ]
    },
    {
     "ename": "NameError",
     "evalue": "name 'Python' is not defined",
     "output_type": "error",
     "traceback": [
      "\u001b[1;31m---------------------------------------------------------------------------\u001b[0m",
      "\u001b[1;31mNameError\u001b[0m                                 Traceback (most recent call last)",
      "\u001b[1;32m~\\AppData\\Local\\Temp\\ipykernel_13132\\3499615311.py\u001b[0m in \u001b[0;36m<module>\u001b[1;34m\u001b[0m\n\u001b[0;32m      1\u001b[0m \u001b[0mget_ipython\u001b[0m\u001b[1;33m(\u001b[0m\u001b[1;33m)\u001b[0m\u001b[1;33m.\u001b[0m\u001b[0mrun_line_magic\u001b[0m\u001b[1;33m(\u001b[0m\u001b[1;34m'pinfo'\u001b[0m\u001b[1;33m,\u001b[0m \u001b[1;34m'program'\u001b[0m\u001b[1;33m)\u001b[0m\u001b[1;33m\u001b[0m\u001b[1;33m\u001b[0m\u001b[0m\n\u001b[1;32m----> 2\u001b[1;33m \u001b[0mPython\u001b[0m\u001b[1;33m\u001b[0m\u001b[1;33m\u001b[0m\u001b[0m\n\u001b[0m\u001b[0;32m      3\u001b[0m \u001b[1;33m\u001b[0m\u001b[0m\n\u001b[0;32m      4\u001b[0m \u001b[0mnum1\u001b[0m \u001b[1;33m=\u001b[0m \u001b[0minput\u001b[0m\u001b[1;33m(\u001b[0m\u001b[1;34m'Enter first number: '\u001b[0m\u001b[1;33m)\u001b[0m\u001b[1;33m\u001b[0m\u001b[1;33m\u001b[0m\u001b[0m\n\u001b[0;32m      5\u001b[0m \u001b[0mnum2\u001b[0m \u001b[1;33m=\u001b[0m \u001b[0minput\u001b[0m\u001b[1;33m(\u001b[0m\u001b[1;34m'Enter second number: '\u001b[0m\u001b[1;33m)\u001b[0m\u001b[1;33m\u001b[0m\u001b[1;33m\u001b[0m\u001b[0m\n",
      "\u001b[1;31mNameError\u001b[0m: name 'Python' is not defined"
     ]
    }
   ],
   "source": [
    "7.sum of the two numbers Python program?"
   ]
  },
  {
   "cell_type": "code",
   "execution_count": 10,
   "id": "71ed334e",
   "metadata": {},
   "outputs": [
    {
     "name": "stdout",
     "output_type": "stream",
     "text": [
      "Enter first number: 3\n",
      "Enter second number: 5\n",
      "The sum of the numbers is 35\n"
     ]
    }
   ],
   "source": [
    "num1 = input('Enter first number: ')  \n",
    "num2 = input('Enter second number: ')  \n",
    "sum = num1 + num2  \n",
    "print('The sum of the numbers is', sum)"
   ]
  },
  {
   "cell_type": "code",
   "execution_count": null,
   "id": "f8660da9",
   "metadata": {},
   "outputs": [],
   "source": [
    "8.Write a Python program to illustrate arithmetic operations (+,-,*,/)?"
   ]
  },
  {
   "cell_type": "code",
   "execution_count": 11,
   "id": "c5aadb54",
   "metadata": {},
   "outputs": [
    {
     "name": "stdout",
     "output_type": "stream",
     "text": [
      "Enter the first number: 4\n",
      "Enter the second number: 5\n",
      "The sum of 4 and 5 is 9\n",
      "The subtration of 4 and 5 is -1\n",
      "The multiplication of 4 and 5 is 20.0\n",
      "The division of 4 and 5 is 0.8\n"
     ]
    }
   ],
   "source": [
    "num1 = input('Enter the first number: ')\n",
    "num2 = input('Enter the second number: ')\n",
    "\n",
    "# Converting and adding two numbers using int() & float() functions\n",
    "sum = int(num1) + int(num2)\n",
    "\n",
    "# Subtracting the two numbers  \n",
    "sub = int(num1) - int(num2)  \n",
    "\n",
    "# Multiplying two numbers  \n",
    "mul = float(num1) * float(num2)  \n",
    "\n",
    "#Dividing two numbers  \n",
    "div = float(num1) / float(num2) \n",
    "\n",
    "\n",
    "# Displaying the results of arithmetic operations\n",
    "print('The sum of {0} and {1} is {2}'.format(num1, num2, sum))\n",
    "print('The subtration of {0} and {1} is {2}'.format(num1, num2, sub))\n",
    "print('The multiplication of {0} and {1} is {2}'.format(num1, num2, mul))  \n",
    "print('The division of {0} and {1} is {2}'.format(num1, num2, div))\n"
   ]
  },
  {
   "cell_type": "code",
   "execution_count": null,
   "id": "01c1b2df",
   "metadata": {},
   "outputs": [],
   "source": [
    "9.Write a Python program to calculate the square root of a given number."
   ]
  },
  {
   "cell_type": "code",
   "execution_count": 12,
   "id": "b93475d3",
   "metadata": {},
   "outputs": [
    {
     "name": "stdout",
     "output_type": "stream",
     "text": [
      "Enter a number: 5\n",
      "The square root of 5.0 is 2.23606797749979\n"
     ]
    }
   ],
   "source": [
    "n = float(input('Enter a number: '))\n",
    "\n",
    "#Formula to calculate the square root of the number\n",
    "n_sqrt = n ** 0.5\n",
    "\n",
    "#Printing the calculated square root of the given number\n",
    "print('The square root of {0} is {1}'.format(n ,n_sqrt))"
   ]
  },
  {
   "cell_type": "code",
   "execution_count": null,
   "id": "f9dbd583",
   "metadata": {},
   "outputs": [],
   "source": [
    "10.Write a Python program to find the area of a circle."
   ]
  },
  {
   "cell_type": "code",
   "execution_count": 13,
   "id": "e1c1248c",
   "metadata": {},
   "outputs": [
    {
     "name": "stdout",
     "output_type": "stream",
     "text": [
      "Enter the radius of the circle: 5\n",
      "Area of the circle is 78.550000\n"
     ]
    }
   ],
   "source": [
    "def circ_Area(rad):\n",
    "\tPI = 3.142\n",
    "\treturn PI * (rad*rad);\n",
    "\n",
    "rad = float(input('Enter the radius of the circle: '))\n",
    "print(\"Area of the circle is %.6f\" % circ_Area(rad));\n"
   ]
  },
  {
   "cell_type": "code",
   "execution_count": null,
   "id": "8ee206d0",
   "metadata": {},
   "outputs": [],
   "source": []
  }
 ],
 "metadata": {
  "kernelspec": {
   "display_name": "Python 3 (ipykernel)",
   "language": "python",
   "name": "python3"
  },
  "language_info": {
   "codemirror_mode": {
    "name": "ipython",
    "version": 3
   },
   "file_extension": ".py",
   "mimetype": "text/x-python",
   "name": "python",
   "nbconvert_exporter": "python",
   "pygments_lexer": "ipython3",
   "version": "3.9.13"
  }
 },
 "nbformat": 4,
 "nbformat_minor": 5
}
